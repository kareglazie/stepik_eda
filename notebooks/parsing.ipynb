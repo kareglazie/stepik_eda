{
 "cells": [
  {
   "cell_type": "markdown",
   "metadata": {
    "id": "GpF7LrMGtDsV"
   },
   "source": [
    "## Парсим Stepik"
   ]
  },
  {
   "cell_type": "markdown",
   "metadata": {
    "id": "3Gk3ZfYP8Wp7"
   },
   "source": [
    "Наша цель — получить следующую информацию о курсах на сайте stepik.org:\n",
    "\n",
    "- Название курса\n",
    "- Краткое описание\n",
    "- Навыки (Чему вы научитесь)\n",
    "- Количество студентов\n",
    "- Цена"
   ]
  },
  {
   "cell_type": "code",
   "execution_count": 17,
   "metadata": {
    "id": "9SMu0tXFOcrU"
   },
   "outputs": [],
   "source": [
    "import requests                         \n",
    "import pandas as pd                     \n",
    "import time                             \n",
    "from bs4 import BeautifulSoup           \n",
    "from fake_useragent import UserAgent    \n",
    "from tqdm.auto import tqdm          \n",
    "import warnings                         \n",
    "warnings.filterwarnings(\"ignore\")"
   ]
  },
  {
   "cell_type": "code",
   "execution_count": null,
   "metadata": {
    "id": "Vik8D-i5TqQZ"
   },
   "outputs": [],
   "source": [
    "def getPageLinks(page_number):\n",
    "    \n",
    "    page_link = 'http://stepik.org/catalog/{}'.format(page_number)\n",
    "\n",
    "    response = requests.get(page_link, headers={'User-Agent': UserAgent().safari})\n",
    "\n",
    "    if not response.ok:\n",
    "        return []\n",
    "\n",
    "    html = response.content\n",
    "    soup = BeautifulSoup(html,'html.parser')\n",
    "\n",
    "    links = soup.findAll(lambda tag: tag.name == 'a' and tag.get('class') == ['course-card__title'])\n",
    "\n",
    "    links = ['http://stepik.org' + link.attrs['href'] + '/promo' for link in links]\n",
    "\n",
    "    return links"
   ]
  },
  {
   "cell_type": "code",
   "execution_count": null,
   "metadata": {
    "id": "GPOLn64QjKxB"
   },
   "outputs": [],
   "source": [
    "def getData(page):\n",
    "    \n",
    "    response = requests.get(page, headers={'User-Agent': UserAgent().chrome})\n",
    "\n",
    "    if not response.ok:\n",
    "        return response.status_code\n",
    "\n",
    "    html = response.content\n",
    "    soup = BeautifulSoup(html,'html.parser')\n",
    "\n",
    "    main_content_block = soup.find('main', attrs={'class':'main-content'})\n",
    "    title = main_content_block.find('h1')\n",
    "    title = \"\" if not title else title.text.strip()\n",
    "\n",
    "    short_description = (main_content_block\n",
    "                         .find('div',\n",
    "                               attrs={'class':'shortened-text ember-view'})\n",
    "                         .text.strip())\n",
    "\n",
    "    aquired_skills = (main_content_block\n",
    "                      .find('section',\n",
    "                            attrs={'class':\"course-promo__content-block\" })\n",
    "                      .text.strip())\n",
    "\n",
    "    students = soup.find('div', attrs={'class':'course-promo-summary__students'})\n",
    "    students = None if not students else int(students.text.strip().split()[0].replace(',', ''))\n",
    "\n",
    "    price = (main_content_block\n",
    "             .find('span',\n",
    "                   attrs={'class':\"format-price\" })\n",
    "             .text.strip())\n",
    "\n",
    "    return {'title': title,\n",
    "            'about':short_description,\n",
    "            'skills':aquired_skills,\n",
    "            'students':students,\n",
    "            'price':price}"
   ]
  },
  {
   "cell_type": "code",
   "execution_count": null,
   "metadata": {
    "colab": {
     "base_uri": "https://localhost:8080/"
    },
    "id": "JQYSOjglrbYi",
    "outputId": "a4529e45-3269-45fb-ff45-1d532085ac3c"
   },
   "outputs": [
    {
     "data": {
      "text/plain": [
       "{'title': 'Основы PHP: Структура и Синтаксис',\n",
       " 'about': 'Курс сосредоточен на PHP7.4\\nЭтот курс позволит вам понять потенциал PHP как языка программирования в WEB-разработке. Основное внимание уделяется практической применимости в бизнес-процессах, подкрепленное реальными бизнес-примерами.',\n",
       " 'skills': 'Чему вы научитесь\\n\\nРешать задачи в PHP.\\nПонимать, что требуется бизнесу от начинающего программиста.\\nРаботать с синтаксисом PHP.\\nСоблюдать стандарты кодирования.\\nИспользовать условные конструкции.\\nИспользовать циклы.\\nСоздавать скрипты на PHP.\\nСоздавать, читать и обрабатывать файлы.',\n",
       " 'students': 76,\n",
       " 'price': '700\\xa0₽'}"
      ]
     },
     "execution_count": 39,
     "metadata": {},
     "output_type": "execute_result"
    }
   ],
   "source": [
    "getData('https://stepik.org/course/184930/promo')"
   ]
  },
  {
   "cell_type": "code",
   "execution_count": null,
   "metadata": {
    "colab": {
     "base_uri": "https://localhost:8080/",
     "height": 49,
     "referenced_widgets": [
      "89f6487bc514414b8828a0071d5f213b",
      "1b1d6c8664aa4408b294f16279d46752",
      "73769a3bfe1e49e5b57561d33895501c",
      "96d296d8bcb54c2a86409bdb68a6d180",
      "8fec7a4993c645879a0731ec02ce9403",
      "ed5b547d797f4f4e876e4c42cba6b0c7",
      "a0b5c6fd1d474af4bf750aa527d73a8e",
      "1e7098b744534e97ad32586445d95f85",
      "9ac598aac6ae4c279caebd37f1be1693",
      "9c23d5a05be54cd396a612a27177bafb",
      "dadb214298b64cfba9c73e03bf27b0f9"
     ]
    },
    "id": "mP97wyiPwY5L",
    "outputId": "014a81df-8ebf-4306-aa10-01eee89ded8c"
   },
   "outputs": [],
   "source": [
    "links = getPageLinks(1)\n",
    "final_df = pd.DataFrame(columns=['title', 'about', 'skills', 'students', 'price'])\n",
    "for link in tqdm(links):\n",
    "    try:\n",
    "        data_row = getData(link)\n",
    "        final_df = final_df.append(data_row, ignore_index=True)\n",
    "        time.sleep(0.3)\n",
    "    except:\n",
    "        continue"
   ]
  },
  {
   "cell_type": "code",
   "execution_count": null,
   "metadata": {
    "id": "Ev1XD0jXzIwt"
   },
   "outputs": [],
   "source": [
    "final_df = pd.DataFrame(columns=['title', 'about', 'skills', 'students', 'price'])\n",
    "\n",
    "for page_number in tqdm(range(500), desc='Pages'):\n",
    "    links = getPageLinks(page_number)\n",
    "    for link in tqdm(links, desc='Courses', leave=False):\n",
    "        for i in range(3):\n",
    "            try:\n",
    "                data_row = getData(link)\n",
    "                final_df = final_df.append(data_row, ignore_index=True)\n",
    "            except:\n",
    "                continue\n",
    "            time.sleep(0.34)"
   ]
  },
  {
   "cell_type": "code",
   "execution_count": null,
   "metadata": {
    "id": "jwb322S27tfa"
   },
   "outputs": [],
   "source": [
    "final_df = final_df.drop_duplicates().dropna()\n",
    "len(final_df)"
   ]
  },
  {
   "cell_type": "code",
   "execution_count": null,
   "metadata": {
    "id": "fo4ZMWLz7_bV"
   },
   "outputs": [],
   "source": [
    "final_df.head()"
   ]
  },
  {
   "cell_type": "code",
   "execution_count": null,
   "metadata": {
    "id": "2OVcSsf68Hjo"
   },
   "outputs": [],
   "source": [
    "final_df.to_csv('../data/stepik_parsed.csv', index=False)"
   ]
  }
 ],
 "metadata": {
  "colab": {
   "provenance": []
  },
  "kernelspec": {
   "display_name": "Python 3",
   "name": "python3"
  },
  "language_info": {
   "codemirror_mode": {
    "name": "ipython",
    "version": 3
   },
   "file_extension": ".py",
   "mimetype": "text/x-python",
   "name": "python",
   "nbconvert_exporter": "python",
   "pygments_lexer": "ipython3",
   "version": "3.13.1"
  }
 },
 "nbformat": 4,
 "nbformat_minor": 0
}
